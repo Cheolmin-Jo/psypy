{
  "nbformat": 4,
  "nbformat_minor": 0,
  "metadata": {
    "colab": {
      "name": "03_a_built-in_data_structures.ipynb",
      "provenance": [],
      "include_colab_link": true
    },
    "kernelspec": {
      "name": "python3",
      "display_name": "Python 3"
    }
  },
  "cells": [
    {
      "cell_type": "markdown",
      "metadata": {
        "id": "view-in-github",
        "colab_type": "text"
      },
      "source": [
        "<a href=\"https://colab.research.google.com/github/Cheolmin-Jo/psypy/blob/master/notebooks/03_a_built_in_data_structures.ipynb\" target=\"_parent\"><img src=\"https://colab.research.google.com/assets/colab-badge.svg\" alt=\"Open In Colab\"/></a>"
      ]
    },
    {
      "cell_type": "code",
      "metadata": {
        "id": "RzKdkj-dRXkN",
        "colab_type": "code",
        "colab": {
          "base_uri": "https://localhost:8080/",
          "height": 139
        },
        "outputId": "1ec00f42-5908-4857-8b55-b6df551c5fe3"
      },
      "source": [
        "03. 내장 자료구조, 함수, 파일 (1)"
      ],
      "execution_count": 1,
      "outputs": [
        {
          "output_type": "error",
          "ename": "SyntaxError",
          "evalue": "ignored",
          "traceback": [
            "\u001b[0;36m  File \u001b[0;32m\"<ipython-input-1-f5eb3573cf40>\"\u001b[0;36m, line \u001b[0;32m1\u001b[0m\n\u001b[0;31m    03. 내장 자료구조, 함수, 파일 (1)\u001b[0m\n\u001b[0m         ^\u001b[0m\n\u001b[0;31mSyntaxError\u001b[0m\u001b[0;31m:\u001b[0m invalid syntax\n"
          ]
        }
      ]
    },
    {
      "cell_type": "code",
      "metadata": {
        "id": "3GEGQjPURedQ",
        "colab_type": "code",
        "colab": {}
      },
      "source": [
        "싸이그래머 / PsyPy [1]\n",
        "김무성"
      ],
      "execution_count": 0,
      "outputs": []
    }
  ]
}